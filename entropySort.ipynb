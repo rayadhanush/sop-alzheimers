{
 "cells": [
  {
   "cell_type": "code",
   "execution_count": 28,
   "metadata": {},
   "outputs": [],
   "source": [
    "import os\n",
    "import glob\n",
    "from PIL import Image\n",
    "import re\n",
    "import skimage.measure  "
   ]
  },
  {
   "cell_type": "code",
   "execution_count": 29,
   "metadata": {},
   "outputs": [],
   "source": [
    "rootPath = '/home/rayadhanush/Documents/sop/'\n",
    "\n",
    "folders = ['MildDemented', 'ModerateDemented', 'NonDemented', 'VeryMildDemented']"
   ]
  },
  {
   "cell_type": "code",
   "execution_count": 34,
   "metadata": {},
   "outputs": [
    {
     "name": "stdout",
     "output_type": "stream",
     "text": [
      "717\n",
      "52\n",
      "1956\n",
      "1792\n"
     ]
    }
   ],
   "source": [
    "for folderName in folders:\n",
    "    \n",
    "    origImgFolderPath = rootPath + 'Alzheimers_Dataset/train/' + folderName + '/'\n",
    "    imfsFolderPath = rootPath + 'imfs/train/' + folderName + '/'\n",
    "    outputDir = '/home/rayadhanush/Documents/sop/sorted_imfs/train/' + folderName + '/'\n",
    "    \n",
    "    originalImgs = glob.glob1(origImgFolderPath,\"*.jpg\") #get list of non-processed input imgs\n",
    "    \n",
    "    #load imfs of each image and sort\n",
    "    for i in originalImgs:\n",
    "        imgName = i.split('.')[0]\n",
    "        img_imfs = glob.glob(imfsFolderPath + imgName + '-imf*')\n",
    "        sorted_imfs = sorted(img_imfs, key = lambda x: skimage.measure.shannon_entropy(Image.open(x)))\n",
    "        \n",
    "        imfNo = 1\n",
    "        for imgFile in sorted_imfs:\n",
    "            if not os.path.isdir(outputDir):\n",
    "                os.makedirs(outputDir)\n",
    "            imfName = imgName + '-imf' + str(imfNo)\n",
    "            #print(imfName)\n",
    "            Image.open(imgFile).save(outputDir + imfName + '.png')\n",
    "            imfNo += 1\n"
   ]
  }
 ],
 "metadata": {
  "kernelspec": {
   "display_name": "Python 3",
   "language": "python",
   "name": "python3"
  },
  "language_info": {
   "codemirror_mode": {
    "name": "ipython",
    "version": 3
   },
   "file_extension": ".py",
   "mimetype": "text/x-python",
   "name": "python",
   "nbconvert_exporter": "python",
   "pygments_lexer": "ipython3",
   "version": "3.8.3"
  }
 },
 "nbformat": 4,
 "nbformat_minor": 4
}
